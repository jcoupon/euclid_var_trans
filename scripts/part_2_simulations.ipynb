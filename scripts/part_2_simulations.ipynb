{
 "cells": [
  {
   "cell_type": "markdown",
   "metadata": {},
   "source": [
    "# preamble"
   ]
  },
  {
   "cell_type": "code",
   "execution_count": null,
   "metadata": {},
   "outputs": [],
   "source": [
    "# dependencies\n",
    "import numpy as np\n",
    "import os\n",
    "import re\n",
    "import sys\n",
    "import glob\n",
    "import collections\n",
    "import pickle\n",
    "\n",
    "from scipy.interpolate import interp1d\n",
    "from scipy import optimize\n",
    "\n",
    "import pandas as pd\n",
    "from astropy.io import fits, ascii\n",
    "import photoz_metrics\n",
    "\n",
    "from astropy.table import Table, join\n",
    "\n",
    "\n",
    "import matplotlib\n",
    "%matplotlib inline\n",
    "# %matplotlib notebook\n",
    "import matplotlib.pyplot as plt\n",
    "import seaborn as sns\n",
    "\n",
    "\n",
    "# plt.style.use('seaborn')\n",
    "plt.style.use('seaborn-whitegrid')\n",
    "\n",
    "# sns.set_style('darkgrid')\n",
    "\n",
    "plt.rc('pdf',fonttype=42)\n",
    "sns.mpl.rc('figure', figsize = (14, 8))\n",
    "sns.set_context('notebook', font_scale=2.5, rc={'lines.linewidth': 2.5})\n",
    "\n",
    "\n",
    "# options\n",
    "# %matplotlib inline\n",
    "# import matplotlib.pyplot as plt\n",
    "# from matplotlib import rc\n",
    "\n",
    "# rc('figure', figsize = (12, 8))\n",
    "# rc('font',**{'size': 30, 'family':'serif', 'serif':['Palatino']})\n",
    "# rc('text', usetex=True)\n",
    "\n",
    "STILTS = 'java -Xmx2048M -jar /Users/coupon/local/bin/stilts.jar'\n",
    "DATADIR = os.environ['HOME']+'/data/euclid/varTrans'\n",
    "CURRENTDIR = '../'\n",
    "\n",
    "\n",
    "# add ./python to python path\n",
    "path_python = '../python'\n",
    "if not path_python in sys.path:\n",
    "    sys.path.insert(0, '../python')\n",
    "\n",
    "import var_trans_utils as vtu\n",
    "\n",
    "from importlib import reload"
   ]
  }
 ],
 "metadata": {
  "kernelspec": {
   "display_name": "Python 3",
   "language": "python",
   "name": "python3"
  },
  "language_info": {
   "codemirror_mode": {
    "name": "ipython",
    "version": 3
   },
   "file_extension": ".py",
   "mimetype": "text/x-python",
   "name": "python",
   "nbconvert_exporter": "python",
   "pygments_lexer": "ipython3",
   "version": "3.7.0"
  }
 },
 "nbformat": 4,
 "nbformat_minor": 2
}
