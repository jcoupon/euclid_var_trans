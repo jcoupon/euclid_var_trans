{
 "cells": [
  {
   "cell_type": "markdown",
   "metadata": {},
   "source": [
    "# Preamble"
   ]
  },
  {
   "cell_type": "code",
   "execution_count": 2,
   "metadata": {},
   "outputs": [],
   "source": [
    "# dependencies\n",
    "import numpy as np\n",
    "import os\n",
    "import re\n",
    "import glob\n",
    "import collections\n",
    "\n",
    "from scipy.interpolate import interp1d\n",
    "from scipy import optimize\n",
    "\n",
    "import pandas as pd\n",
    "from astropy.io import fits, ascii\n",
    "import photoz_metrics\n",
    "\n",
    "from astropy.table import Table, join\n",
    "\n",
    "# options\n",
    "%matplotlib inline\n",
    "import matplotlib.pyplot as plt\n",
    "from matplotlib import rc\n",
    "\n",
    "rc('figure', figsize = (12, 8))\n",
    "rc('font',**{'size': 30, 'family':'serif', 'serif':['Palatino']})\n",
    "rc('text', usetex=True)\n",
    "\n",
    "STILTS = 'java -Xmx2048M -jar /Users/coupon/local/bin/stilts.jar'\n",
    "DATADIR = os.environ['HOME']+'/data/euclid/varTrans'\n",
    "CURRENTDIR = os.environ['HOME']+'/projects/euclid/varTrans'"
   ]
  },
  {
   "cell_type": "markdown",
   "metadata": {},
   "source": [
    "# Variable transmissions\n",
    "\n",
    "## Measured variations on current filters"
   ]
  }
 ],
 "metadata": {
  "kernelspec": {
   "display_name": "Python 3",
   "language": "python",
   "name": "python3"
  },
  "language_info": {
   "codemirror_mode": {
    "name": "ipython",
    "version": 3
   },
   "file_extension": ".py",
   "mimetype": "text/x-python",
   "name": "python",
   "nbconvert_exporter": "python",
   "pygments_lexer": "ipython3",
   "version": "3.7.0"
  }
 },
 "nbformat": 4,
 "nbformat_minor": 2
}
